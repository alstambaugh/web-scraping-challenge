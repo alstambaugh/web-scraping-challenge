{
 "cells": [
  {
   "cell_type": "code",
   "execution_count": null,
   "metadata": {},
   "outputs": [],
   "source": [
    "from splinter import Browser\n",
    "import time\n",
    "import requests\n",
    "import pandas as pd\n",
    "from bs4 import BeautifulSoup as bs"
   ]
  },
  {
   "cell_type": "code",
   "execution_count": null,
   "metadata": {},
   "outputs": [],
   "source": [
    "#Scrape first news title and news paragraph\n",
    "url = 'https://mars.nasa.gov/news'\n",
    "\n",
    "response = requests.get(url)\n",
    "soup = bs(response.text, 'html.parser')\n",
    "\n",
    "news_title = soup.find(class_='content_title').text.strip()\n",
    "news_p = soup.find(class_='rollover_description_inner').text.strip()"
   ]
  },
  {
   "cell_type": "code",
   "execution_count": null,
   "metadata": {},
   "outputs": [],
   "source": [
    "#Get URL for featured image\n",
    "JPL_url = 'https://www.jpl.nasa.gov/spaceimages/?search=&category=Mars'\n",
    "\n",
    "executable_path = {'executable_path':'c:/bin/chromedriver.exe'}\n",
    "browser = Browser('chrome', **executable_path, headless = False)\n",
    "\n",
    "browser.visit(JPL_url)\n",
    "time.sleep(3)\n",
    "\n",
    "html = browser.html\n",
    "soup = bs(html, 'html.parser')\n",
    "\n",
    "relative_image_url = soup.find(class_='button fancybox')[\"data-fancybox-href\"]\n",
    "\n",
    "browser.quit()"
   ]
  },
  {
   "cell_type": "code",
   "execution_count": null,
   "metadata": {},
   "outputs": [],
   "source": [
    "#Combine relative url with base url\n",
    "featured_image_url = 'https://www.jpl.nasa.gov' + relative_image_url"
   ]
  },
  {
   "cell_type": "code",
   "execution_count": null,
   "metadata": {},
   "outputs": [],
   "source": [
    "#Scrape Mars facts table\n",
    "facts_url = 'https://space-facts.com/mars/'\n",
    "tables = pd.read_html(facts_url)\n",
    "\n",
    "#Save to dataframe\n",
    "facts_df = tables[0]\n",
    "\n",
    "#Set index\n",
    "facts_df.set_index(0, inplace=True)\n",
    "\n",
    "#Convert dataframe to HTML\n",
    "facts_df.to_html('mars_facts.html')"
   ]
  },
  {
   "cell_type": "code",
   "execution_count": null,
   "metadata": {},
   "outputs": [],
   "source": [
    "#Get hemisphere images\n",
    "hemi_url = 'https://astrogeology.usgs.gov/search/results?q=hemisphere+enhanced&k1=target&v1=Mars'\n",
    "base_url = 'https://astrogeology.usgs.gov'\n",
    "\n",
    "#Get links to open individual hemisphere pages\n",
    "executable_path = {'executable_path':'c:/bin/chromedriver.exe'}\n",
    "browser = Browser('chrome', **executable_path, headless = False)\n",
    "\n",
    "browser.visit(hemi_url)\n",
    "time.sleep(1)\n",
    "\n",
    "html = browser.html\n",
    "soup = bs(html, 'html.parser')\n",
    "\n",
    "results = soup.find_all(class_='description')\n",
    "link_list = []\n",
    "for result in results:\n",
    "    link = base_url + result.find('a')['href']\n",
    "    link_list.append(link)\n",
    "    \n",
    "browser.quit()"
   ]
  },
  {
   "cell_type": "code",
   "execution_count": null,
   "metadata": {},
   "outputs": [],
   "source": [
    "#Loop through links to get titles and img urls\n",
    "title_list = []\n",
    "img_list = []\n",
    "\n",
    "for link in link_list:\n",
    "    executable_path = {'executable_path':'c:/bin/chromedriver.exe'}\n",
    "    browser = Browser('chrome', **executable_path, headless = False)\n",
    "\n",
    "    browser.visit(link)\n",
    "    time.sleep(1)\n",
    "    \n",
    "    html = browser.html\n",
    "    soup = bs(html, 'html.parser')\n",
    "    \n",
    "    #Get title\n",
    "    title = soup.find(class_='title').text.strip()\n",
    "    #Remove \"Enhanced\" from title\n",
    "    title = title.replace('Enhanced','')\n",
    "    #Remove space at end of title\n",
    "    title = title.strip()\n",
    "    title_list.append(title)\n",
    "    #Get image url\n",
    "    img = soup.find(class_='downloads')\n",
    "    img_url = img.find('a')['href']\n",
    "    img_list.append(img_url)\n",
    "    \n",
    "    browser.quit()"
   ]
  },
  {
   "cell_type": "code",
   "execution_count": null,
   "metadata": {},
   "outputs": [],
   "source": [
    "#Convert title list & link list to dictionary\n",
    "hemisphere_image_urls = [{'title':title_list[i], 'img_url':img_list[i]} for i in range(len(img_list))]\n",
    "hemisphere_image_urls"
   ]
  },
  {
   "cell_type": "code",
   "execution_count": null,
   "metadata": {},
   "outputs": [],
   "source": []
  }
 ],
 "metadata": {
  "kernelspec": {
   "display_name": "Python 3",
   "language": "python",
   "name": "python3"
  },
  "language_info": {
   "codemirror_mode": {
    "name": "ipython",
    "version": 3
   },
   "file_extension": ".py",
   "mimetype": "text/x-python",
   "name": "python",
   "nbconvert_exporter": "python",
   "pygments_lexer": "ipython3",
   "version": "3.6.10"
  }
 },
 "nbformat": 4,
 "nbformat_minor": 4
}
